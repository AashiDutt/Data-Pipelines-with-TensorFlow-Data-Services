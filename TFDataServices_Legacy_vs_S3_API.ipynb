{
  "nbformat": 4,
  "nbformat_minor": 0,
  "metadata": {
    "colab": {
      "name": "TFDataServices_Legacy_vs_S3_API.ipynb",
      "provenance": [],
      "authorship_tag": "ABX9TyNZG/Nl+RsdGX+P46qYSKON",
      "include_colab_link": true
    },
    "kernelspec": {
      "name": "python3",
      "display_name": "Python 3"
    },
    "widgets": {
      "application/vnd.jupyter.widget-state+json": {
        "0543321ce2624b9aae2a8245f9773de5": {
          "model_module": "@jupyter-widgets/controls",
          "model_name": "HBoxModel",
          "state": {
            "_view_name": "HBoxView",
            "_dom_classes": [],
            "_model_name": "HBoxModel",
            "_view_module": "@jupyter-widgets/controls",
            "_model_module_version": "1.5.0",
            "_view_count": null,
            "_view_module_version": "1.5.0",
            "box_style": "",
            "layout": "IPY_MODEL_58684ab953664d4abe9d208481bad61b",
            "_model_module": "@jupyter-widgets/controls",
            "children": [
              "IPY_MODEL_29f4262ab7f942059c0d0a9f375344b7",
              "IPY_MODEL_d673263d32bd4299b241cf03773454d6"
            ]
          }
        },
        "58684ab953664d4abe9d208481bad61b": {
          "model_module": "@jupyter-widgets/base",
          "model_name": "LayoutModel",
          "state": {
            "_view_name": "LayoutView",
            "grid_template_rows": null,
            "right": null,
            "justify_content": null,
            "_view_module": "@jupyter-widgets/base",
            "overflow": null,
            "_model_module_version": "1.2.0",
            "_view_count": null,
            "flex_flow": null,
            "width": null,
            "min_width": null,
            "border": null,
            "align_items": null,
            "bottom": null,
            "_model_module": "@jupyter-widgets/base",
            "top": null,
            "grid_column": null,
            "overflow_y": null,
            "overflow_x": null,
            "grid_auto_flow": null,
            "grid_area": null,
            "grid_template_columns": null,
            "flex": null,
            "_model_name": "LayoutModel",
            "justify_items": null,
            "grid_row": null,
            "max_height": null,
            "align_content": null,
            "visibility": null,
            "align_self": null,
            "height": null,
            "min_height": null,
            "padding": null,
            "grid_auto_rows": null,
            "grid_gap": null,
            "max_width": null,
            "order": null,
            "_view_module_version": "1.2.0",
            "grid_template_areas": null,
            "object_position": null,
            "object_fit": null,
            "grid_auto_columns": null,
            "margin": null,
            "display": null,
            "left": null
          }
        },
        "29f4262ab7f942059c0d0a9f375344b7": {
          "model_module": "@jupyter-widgets/controls",
          "model_name": "IntProgressModel",
          "state": {
            "_view_name": "ProgressView",
            "style": "IPY_MODEL_8110f797ef3341258de52d4bd293c053",
            "_dom_classes": [],
            "description": "Dl Completed...: 100%",
            "_model_name": "IntProgressModel",
            "bar_style": "success",
            "max": 4,
            "_view_module": "@jupyter-widgets/controls",
            "_model_module_version": "1.5.0",
            "value": 4,
            "_view_count": null,
            "_view_module_version": "1.5.0",
            "orientation": "horizontal",
            "min": 0,
            "description_tooltip": null,
            "_model_module": "@jupyter-widgets/controls",
            "layout": "IPY_MODEL_6dcec53eeeed42c2a089296172ea6a21"
          }
        },
        "d673263d32bd4299b241cf03773454d6": {
          "model_module": "@jupyter-widgets/controls",
          "model_name": "HTMLModel",
          "state": {
            "_view_name": "HTMLView",
            "style": "IPY_MODEL_6995ce38df524ae99413828c2dd6f057",
            "_dom_classes": [],
            "description": "",
            "_model_name": "HTMLModel",
            "placeholder": "​",
            "_view_module": "@jupyter-widgets/controls",
            "_model_module_version": "1.5.0",
            "value": " 4/4 [00:00&lt;00:00,  4.22 file/s]",
            "_view_count": null,
            "_view_module_version": "1.5.0",
            "description_tooltip": null,
            "_model_module": "@jupyter-widgets/controls",
            "layout": "IPY_MODEL_9327560093d94fbf8b02f3eaf736c9b0"
          }
        },
        "8110f797ef3341258de52d4bd293c053": {
          "model_module": "@jupyter-widgets/controls",
          "model_name": "ProgressStyleModel",
          "state": {
            "_view_name": "StyleView",
            "_model_name": "ProgressStyleModel",
            "description_width": "initial",
            "_view_module": "@jupyter-widgets/base",
            "_model_module_version": "1.5.0",
            "_view_count": null,
            "_view_module_version": "1.2.0",
            "bar_color": null,
            "_model_module": "@jupyter-widgets/controls"
          }
        },
        "6dcec53eeeed42c2a089296172ea6a21": {
          "model_module": "@jupyter-widgets/base",
          "model_name": "LayoutModel",
          "state": {
            "_view_name": "LayoutView",
            "grid_template_rows": null,
            "right": null,
            "justify_content": null,
            "_view_module": "@jupyter-widgets/base",
            "overflow": null,
            "_model_module_version": "1.2.0",
            "_view_count": null,
            "flex_flow": null,
            "width": null,
            "min_width": null,
            "border": null,
            "align_items": null,
            "bottom": null,
            "_model_module": "@jupyter-widgets/base",
            "top": null,
            "grid_column": null,
            "overflow_y": null,
            "overflow_x": null,
            "grid_auto_flow": null,
            "grid_area": null,
            "grid_template_columns": null,
            "flex": null,
            "_model_name": "LayoutModel",
            "justify_items": null,
            "grid_row": null,
            "max_height": null,
            "align_content": null,
            "visibility": null,
            "align_self": null,
            "height": null,
            "min_height": null,
            "padding": null,
            "grid_auto_rows": null,
            "grid_gap": null,
            "max_width": null,
            "order": null,
            "_view_module_version": "1.2.0",
            "grid_template_areas": null,
            "object_position": null,
            "object_fit": null,
            "grid_auto_columns": null,
            "margin": null,
            "display": null,
            "left": null
          }
        },
        "6995ce38df524ae99413828c2dd6f057": {
          "model_module": "@jupyter-widgets/controls",
          "model_name": "DescriptionStyleModel",
          "state": {
            "_view_name": "StyleView",
            "_model_name": "DescriptionStyleModel",
            "description_width": "",
            "_view_module": "@jupyter-widgets/base",
            "_model_module_version": "1.5.0",
            "_view_count": null,
            "_view_module_version": "1.2.0",
            "_model_module": "@jupyter-widgets/controls"
          }
        },
        "9327560093d94fbf8b02f3eaf736c9b0": {
          "model_module": "@jupyter-widgets/base",
          "model_name": "LayoutModel",
          "state": {
            "_view_name": "LayoutView",
            "grid_template_rows": null,
            "right": null,
            "justify_content": null,
            "_view_module": "@jupyter-widgets/base",
            "overflow": null,
            "_model_module_version": "1.2.0",
            "_view_count": null,
            "flex_flow": null,
            "width": null,
            "min_width": null,
            "border": null,
            "align_items": null,
            "bottom": null,
            "_model_module": "@jupyter-widgets/base",
            "top": null,
            "grid_column": null,
            "overflow_y": null,
            "overflow_x": null,
            "grid_auto_flow": null,
            "grid_area": null,
            "grid_template_columns": null,
            "flex": null,
            "_model_name": "LayoutModel",
            "justify_items": null,
            "grid_row": null,
            "max_height": null,
            "align_content": null,
            "visibility": null,
            "align_self": null,
            "height": null,
            "min_height": null,
            "padding": null,
            "grid_auto_rows": null,
            "grid_gap": null,
            "max_width": null,
            "order": null,
            "_view_module_version": "1.2.0",
            "grid_template_areas": null,
            "object_position": null,
            "object_fit": null,
            "grid_auto_columns": null,
            "margin": null,
            "display": null,
            "left": null
          }
        }
      }
    }
  },
  "cells": [
    {
      "cell_type": "markdown",
      "metadata": {
        "id": "view-in-github",
        "colab_type": "text"
      },
      "source": [
        "<a href=\"https://colab.research.google.com/github/AashiDutt/Data-Pipelines-with-TensorFlow-Data-Services/blob/master/TFDataServices_Legacy_vs_S3_API.ipynb\" target=\"_parent\"><img src=\"https://colab.research.google.com/assets/colab-badge.svg\" alt=\"Open In Colab\"/></a>"
      ]
    },
    {
      "cell_type": "code",
      "metadata": {
        "id": "j4cC4J8GvHOh",
        "colab_type": "code",
        "colab": {}
      },
      "source": [
        "try:\n",
        "    %tensorflow_version 2.x\n",
        "except:\n",
        "    pass"
      ],
      "execution_count": 0,
      "outputs": []
    },
    {
      "cell_type": "code",
      "metadata": {
        "id": "y36T6O3uvPCa",
        "colab_type": "code",
        "colab": {
          "base_uri": "https://localhost:8080/",
          "height": 34
        },
        "outputId": "22073e28-e596-4d7a-c296-750ec482a5ca"
      },
      "source": [
        "import tensorflow as tf\n",
        "import tensorflow_datasets as tfds\n",
        "\n",
        "print(\"\\u2022 Using TensorFlow Version:\", tf.__version__)"
      ],
      "execution_count": 2,
      "outputs": [
        {
          "output_type": "stream",
          "text": [
            "• Using TensorFlow Version: 2.2.0-rc3\n"
          ],
          "name": "stdout"
        }
      ]
    },
    {
      "cell_type": "markdown",
      "metadata": {
        "id": "n6-M0-JPvVJ7",
        "colab_type": "text"
      },
      "source": [
        "**Merging Splits with the Legacy API**\n",
        "\n",
        "In the Legacy API, you can merge splits together by adding them together, as shown below:"
      ]
    },
    {
      "cell_type": "code",
      "metadata": {
        "id": "dtvMaGP1vS1l",
        "colab_type": "code",
        "colab": {
          "base_uri": "https://localhost:8080/",
          "height": 217,
          "referenced_widgets": [
            "0543321ce2624b9aae2a8245f9773de5",
            "58684ab953664d4abe9d208481bad61b",
            "29f4262ab7f942059c0d0a9f375344b7",
            "d673263d32bd4299b241cf03773454d6",
            "8110f797ef3341258de52d4bd293c053",
            "6dcec53eeeed42c2a089296172ea6a21",
            "6995ce38df524ae99413828c2dd6f057",
            "9327560093d94fbf8b02f3eaf736c9b0"
          ]
        },
        "outputId": "9a3ab6e3-e606-497c-a7e5-258e929cd9dd"
      },
      "source": [
        "\n",
        "ds = tfds.load(\"mnist\", split='train+test')\n",
        "\n",
        "print(\"Number of Records: {:,}\".format(len(list(ds))))"
      ],
      "execution_count": 3,
      "outputs": [
        {
          "output_type": "stream",
          "text": [
            "WARNING:absl:Dataset mnist is hosted on GCS. It will automatically be downloaded to your\n",
            "local data directory. If you'd instead prefer to read directly from our public\n",
            "GCS bucket (recommended if you're running on GCP), you can instead set\n",
            "data_dir=gs://tfds-data/datasets.\n",
            "\n"
          ],
          "name": "stderr"
        },
        {
          "output_type": "stream",
          "text": [
            "\u001b[1mDownloading and preparing dataset mnist/3.0.0 (download: 11.06 MiB, generated: Unknown size, total: 11.06 MiB) to /root/tensorflow_datasets/mnist/3.0.0...\u001b[0m\n"
          ],
          "name": "stdout"
        },
        {
          "output_type": "display_data",
          "data": {
            "application/vnd.jupyter.widget-view+json": {
              "model_id": "0543321ce2624b9aae2a8245f9773de5",
              "version_minor": 0,
              "version_major": 2
            },
            "text/plain": [
              "HBox(children=(IntProgress(value=0, description='Dl Completed...', max=4, style=ProgressStyle(description_widt…"
            ]
          },
          "metadata": {
            "tags": []
          }
        },
        {
          "output_type": "stream",
          "text": [
            "\n",
            "\n",
            "\u001b[1mDataset mnist downloaded and prepared to /root/tensorflow_datasets/mnist/3.0.0. Subsequent calls will reuse this data.\u001b[0m\n",
            "Number of Records: 70,000\n"
          ],
          "name": "stdout"
        }
      ]
    },
    {
      "cell_type": "markdown",
      "metadata": {
        "id": "lKY3gkeQvdUh",
        "colab_type": "text"
      },
      "source": [
        "***Subsplitting with the Legacy API***\n",
        "\n",
        "With the Legacy API, we can use the subsplit method to divide the datasets. In the example below, we divide the training set into four splits by specifying the number of subsplits, with the argument k=4."
      ]
    },
    {
      "cell_type": "markdown",
      "metadata": {
        "id": "8vDV2Yb2wjNM",
        "colab_type": "text"
      },
      "source": [
        "## ***NEEDS UPDATION***"
      ]
    },
    {
      "cell_type": "code",
      "metadata": {
        "id": "FjphqctlvaDq",
        "colab_type": "code",
        "colab": {}
      },
      "source": [
        "# s1, s2, s3, s4 = tfds.Split.TRAIN.subsplit(k=4)\n",
        "\n",
        "# dataset_split_1 = tfds.load(\"mnist\", split=s1)\n",
        "# dataset_split_2 = tfds.load(\"mnist\", split=s2)\n",
        "# dataset_split_3 = tfds.load(\"mnist\", split=s3)\n",
        "# dataset_split_4 = tfds.load(\"mnist\", split=s4)\n",
        "\n",
        "# print(len(list(dataset_split_1)))\n",
        "# print(len(list(dataset_split_2)))\n",
        "# print(len(list(dataset_split_3)))\n",
        "# print(len(list(dataset_split_4)))"
      ],
      "execution_count": 0,
      "outputs": []
    },
    {
      "cell_type": "markdown",
      "metadata": {
        "id": "loYdRQAfvqQ2",
        "colab_type": "text"
      },
      "source": [
        "We can also perform the same operation, by specifying a percentage slice in the subsplit method instead. In the example below, we divide the training set into four splits by specifying a percentage slice, with tfds.percent."
      ]
    },
    {
      "cell_type": "code",
      "metadata": {
        "id": "ZjEwWWaQviH5",
        "colab_type": "code",
        "colab": {}
      },
      "source": [
        "# s1 = tfds.Split.TRAIN.subsplit(tfds.percent[0:25])\n",
        "# s2 = tfds.Split.TRAIN.subsplit(tfds.percent[25:50])\n",
        "# s3 = tfds.Split.TRAIN.subsplit(tfds.percent[50:75])\n",
        "# s4 = tfds.Split.TRAIN.subsplit(tfds.percent[75:100])\n",
        "\n",
        "# dataset_split_1 = tfds.load(\"mnist\", split=s1)\n",
        "# dataset_split_2 = tfds.load(\"mnist\", split=s2)\n",
        "# dataset_split_3 = tfds.load(\"mnist\", split=s3)\n",
        "# dataset_split_4 = tfds.load(\"mnist\", split=s4)\n",
        "\n",
        "# print(len(list(dataset_split_1)))\n",
        "# print(len(list(dataset_split_2)))\n",
        "# print(len(list(dataset_split_3)))\n",
        "# print(len(list(dataset_split_4)))"
      ],
      "execution_count": 0,
      "outputs": []
    },
    {
      "cell_type": "markdown",
      "metadata": {
        "id": "AdTUZzk9wxbn",
        "colab_type": "text"
      },
      "source": [
        "# ***Using the New S3 API***\n",
        "\n",
        "Before using the new S3 API, we must first find out whether the MNIST dataset implements the new S3 API. In the cell below we indicate that we want to use version 3.*.* of the MNIST dataset.\n",
        "\n",
        "S - Split\n",
        "\n",
        "S - Slices\n",
        "\n",
        "S - Strings"
      ]
    },
    {
      "cell_type": "code",
      "metadata": {
        "id": "3FPvEEtwvs0o",
        "colab_type": "code",
        "colab": {
          "base_uri": "https://localhost:8080/",
          "height": 34
        },
        "outputId": "1661d531-b520-4f24-cec7-84afa9e8b7eb"
      },
      "source": [
        "mnist_builder = tfds.builder(\"mnist:3.*.*\")\n",
        "\n",
        "print(mnist_builder.version.implements(tfds.core.Experiment.S3))"
      ],
      "execution_count": 8,
      "outputs": [
        {
          "output_type": "stream",
          "text": [
            "True\n"
          ],
          "name": "stdout"
        }
      ]
    },
    {
      "cell_type": "markdown",
      "metadata": {
        "id": "q_imQiYRxLWL",
        "colab_type": "text"
      },
      "source": [
        "We can see that the code above printed True, which means that version 3.*.* of the MNIST dataset supports the new S3 API.\n",
        "\n",
        "Now, let's see how we can use the S3 API to download the MNIST dataset and specify the splits we want use. In the code below we download the train and test splits of the MNIST dataset and then we print their size. We will see that there are 60,000 records in the training set and 10,000 in the test set."
      ]
    },
    {
      "cell_type": "code",
      "metadata": {
        "id": "-U74bYwuxG7d",
        "colab_type": "code",
        "colab": {
          "base_uri": "https://localhost:8080/",
          "height": 50
        },
        "outputId": "f44ab7ca-82e0-4589-a88b-61b94619cf8e"
      },
      "source": [
        "train_ds, test_ds = tfds.load('mnist:3.*.*', split=['train', 'test'])\n",
        "\n",
        "print(len(list(train_ds)))\n",
        "print(len(list(test_ds)))"
      ],
      "execution_count": 9,
      "outputs": [
        {
          "output_type": "stream",
          "text": [
            "60000\n",
            "10000\n"
          ],
          "name": "stdout"
        }
      ]
    },
    {
      "cell_type": "markdown",
      "metadata": {
        "id": "HD0YU9tjxRW3",
        "colab_type": "text"
      },
      "source": [
        "In the S3 API we can use strings to specify the slicing instructions. For example, in the cell below we will merge the training and test sets by passing the string ’train+test' to the split argument."
      ]
    },
    {
      "cell_type": "code",
      "metadata": {
        "id": "SGE0d2H2xNsd",
        "colab_type": "code",
        "colab": {
          "base_uri": "https://localhost:8080/",
          "height": 34
        },
        "outputId": "a820143a-93c2-4536-d5bf-d951180e0e11"
      },
      "source": [
        "combined = tfds.load('mnist:3.*.*', split='train+test')\n",
        "\n",
        "print(len(list(combined)))"
      ],
      "execution_count": 10,
      "outputs": [
        {
          "output_type": "stream",
          "text": [
            "70000\n"
          ],
          "name": "stdout"
        }
      ]
    },
    {
      "cell_type": "markdown",
      "metadata": {
        "id": "-7x0ZXidxWf2",
        "colab_type": "text"
      },
      "source": [
        "We can also use Python style list slicers to specify the data we want. For example, we can specify that we want to take the first 10,000 records of the train split with the string 'train[:10000]', as shown below:"
      ]
    },
    {
      "cell_type": "code",
      "metadata": {
        "id": "ATh_pnBIxUIe",
        "colab_type": "code",
        "colab": {
          "base_uri": "https://localhost:8080/",
          "height": 34
        },
        "outputId": "abd17c85-4e1c-48da-8381-73d11302ba85"
      },
      "source": [
        "first10k = tfds.load('mnist:3.*.*', split='train[:10000]')\n",
        "\n",
        "print(len(list(first10k)))"
      ],
      "execution_count": 11,
      "outputs": [
        {
          "output_type": "stream",
          "text": [
            "10000\n"
          ],
          "name": "stdout"
        }
      ]
    },
    {
      "cell_type": "markdown",
      "metadata": {
        "id": "BU_eFPHGxcPM",
        "colab_type": "text"
      },
      "source": [
        "The S3 API, also allows us to specify the percentage of the data we want to use. For example, we can select the first 20% of the training set with the string 'train[:20%]', as shown below:"
      ]
    },
    {
      "cell_type": "code",
      "metadata": {
        "id": "AaxYO74pxY30",
        "colab_type": "code",
        "colab": {
          "base_uri": "https://localhost:8080/",
          "height": 34
        },
        "outputId": "aa4cdc25-ce44-4242-b2c9-3f19d18b29a6"
      },
      "source": [
        "first20p = tfds.load('mnist:3.*.*', split='train[:20%]')\n",
        "\n",
        "print(len(list(first20p)))"
      ],
      "execution_count": 12,
      "outputs": [
        {
          "output_type": "stream",
          "text": [
            "12000\n"
          ],
          "name": "stdout"
        }
      ]
    },
    {
      "cell_type": "markdown",
      "metadata": {
        "id": "YYjLDxLgxiU1",
        "colab_type": "text"
      },
      "source": [
        "We can see that first20p contains 12,000 records, which is indeed 20% the total number of records in the training set. Recall that the training set contains 60,000 records.\n",
        "\n",
        "Because the slices are string-based we can use loops, like the ones shown below, to slice up the dataset and make some pretty complex splits. For example, the loops below create 10 complimentary validation and training sets (each loop returns a list with 5 data sets)."
      ]
    },
    {
      "cell_type": "code",
      "metadata": {
        "id": "JsERrt-3xe5o",
        "colab_type": "code",
        "colab": {}
      },
      "source": [
        "val_ds = tfds.load('mnist:3.*.*', split=['train[{}%:{}%]'.format(k, k+20) for k in range(0, 100, 20)])\n",
        "\n",
        "train_ds = tfds.load('mnist:3.*.*', split=['train[:{}%]+train[{}%:]'.format(k, k+20) for k in range(0, 100, 20)])"
      ],
      "execution_count": 0,
      "outputs": []
    },
    {
      "cell_type": "code",
      "metadata": {
        "id": "ogkvAXnnxkgn",
        "colab_type": "code",
        "colab": {
          "base_uri": "https://localhost:8080/",
          "height": 101
        },
        "outputId": "249b102d-edeb-4874-ab90-3b1094ae3382"
      },
      "source": [
        "val_ds"
      ],
      "execution_count": 14,
      "outputs": [
        {
          "output_type": "execute_result",
          "data": {
            "text/plain": [
              "[<DatasetV1Adapter shapes: {image: (28, 28, 1), label: ()}, types: {image: tf.uint8, label: tf.int64}>,\n",
              " <DatasetV1Adapter shapes: {image: (28, 28, 1), label: ()}, types: {image: tf.uint8, label: tf.int64}>,\n",
              " <DatasetV1Adapter shapes: {image: (28, 28, 1), label: ()}, types: {image: tf.uint8, label: tf.int64}>,\n",
              " <DatasetV1Adapter shapes: {image: (28, 28, 1), label: ()}, types: {image: tf.uint8, label: tf.int64}>,\n",
              " <DatasetV1Adapter shapes: {image: (28, 28, 1), label: ()}, types: {image: tf.uint8, label: tf.int64}>]"
            ]
          },
          "metadata": {
            "tags": []
          },
          "execution_count": 14
        }
      ]
    },
    {
      "cell_type": "code",
      "metadata": {
        "id": "b1zf7koDxmb7",
        "colab_type": "code",
        "colab": {
          "base_uri": "https://localhost:8080/",
          "height": 101
        },
        "outputId": "1503401f-b002-46bc-c169-af61bceb698a"
      },
      "source": [
        "train_ds"
      ],
      "execution_count": 15,
      "outputs": [
        {
          "output_type": "execute_result",
          "data": {
            "text/plain": [
              "[<DatasetV1Adapter shapes: {image: (28, 28, 1), label: ()}, types: {image: tf.uint8, label: tf.int64}>,\n",
              " <DatasetV1Adapter shapes: {image: (28, 28, 1), label: ()}, types: {image: tf.uint8, label: tf.int64}>,\n",
              " <DatasetV1Adapter shapes: {image: (28, 28, 1), label: ()}, types: {image: tf.uint8, label: tf.int64}>,\n",
              " <DatasetV1Adapter shapes: {image: (28, 28, 1), label: ()}, types: {image: tf.uint8, label: tf.int64}>,\n",
              " <DatasetV1Adapter shapes: {image: (28, 28, 1), label: ()}, types: {image: tf.uint8, label: tf.int64}>]"
            ]
          },
          "metadata": {
            "tags": []
          },
          "execution_count": 15
        }
      ]
    },
    {
      "cell_type": "code",
      "metadata": {
        "id": "gLXK501_xoDf",
        "colab_type": "code",
        "colab": {
          "base_uri": "https://localhost:8080/",
          "height": 50
        },
        "outputId": "6e832390-2a2e-4bed-80f0-4fe83fc12b37"
      },
      "source": [
        "print(len(list(val_ds)))\n",
        "print(len(list(train_ds)))"
      ],
      "execution_count": 16,
      "outputs": [
        {
          "output_type": "stream",
          "text": [
            "5\n",
            "5\n"
          ],
          "name": "stdout"
        }
      ]
    },
    {
      "cell_type": "markdown",
      "metadata": {
        "id": "v7X5xwWgxsam",
        "colab_type": "text"
      },
      "source": [
        "The S3 API also allows us to compose new datasets by using pieces from different splits. For example, we can create a new dataset from the first 10% of the test set and the last 80% of the training set, as shown below."
      ]
    },
    {
      "cell_type": "code",
      "metadata": {
        "id": "IkkDK02xxqEr",
        "colab_type": "code",
        "colab": {
          "base_uri": "https://localhost:8080/",
          "height": 34
        },
        "outputId": "a56347b7-8926-4d7e-a73f-b33f02e942df"
      },
      "source": [
        "composed_ds = tfds.load('mnist:3.*.*', split='test[:10%]+train[-80%:]')\n",
        "\n",
        "print(len(list(composed_ds)))"
      ],
      "execution_count": 17,
      "outputs": [
        {
          "output_type": "stream",
          "text": [
            "49000\n"
          ],
          "name": "stdout"
        }
      ]
    },
    {
      "cell_type": "code",
      "metadata": {
        "id": "XuHj1AcyxukF",
        "colab_type": "code",
        "colab": {}
      },
      "source": [
        ""
      ],
      "execution_count": 0,
      "outputs": []
    }
  ]
}